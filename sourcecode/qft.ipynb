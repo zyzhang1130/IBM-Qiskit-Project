{
  "cells": [
    {
      "cell_type": "code",
      "execution_count": 1,
      "metadata": {
        "trusted": true
      },
      "outputs": [],
      "source": "%matplotlib inline\n# Importing standard Qiskit libraries and configuring account\nfrom qiskit import QuantumCircuit, execute, Aer, IBMQ\nfrom qiskit.compiler import transpile, assemble\nfrom qiskit.tools.jupyter import *\nfrom qiskit.visualization import *\n# Loading your IBM Q account(s)\nIBMQ.load_accounts()"
    },
    {
      "cell_type": "code",
      "execution_count": 1,
      "metadata": {
        "trusted": true
      },
      "outputs": [],
      "source": "import math\n\n# importing Qiskit\nfrom qiskit import Aer, IBMQ\nfrom qiskit import QuantumRegister, ClassicalRegister, QuantumCircuit, execute\n#from qiskit.backends.ibmq import least_busy\n\n# useful additional packages \n#from qiskit.wrapper.jupyter import *\nfrom qiskit.tools.visualization import plot_histogram"
    },
    {
      "cell_type": "code",
      "execution_count": 36,
      "metadata": {
        "trusted": true
      },
      "outputs": [],
      "source": "IBMQ.load_accounts()"
    },
    {
      "cell_type": "code",
      "execution_count": 7,
      "metadata": {
        "trusted": true
      },
      "outputs": [],
      "source": "def input_state(circ, q, n):\n    \"\"\"n-qubit input state for QFT that produces output 1.\"\"\"\n    for j in range(n):\n        circ.h(q[j])\n        circ.u1(math.pi/float(2**(j)), q[j]).inverse()"
    },
    {
      "cell_type": "code",
      "execution_count": 20,
      "metadata": {
        "trusted": true
      },
      "outputs": [
        {
          "ename": "SyntaxError",
          "evalue": "invalid syntax (<ipython-input-20-dde9eefcd3f6>, line 1)",
          "output_type": "error",
          "traceback": [
            "\u001b[0;36m  File \u001b[0;32m\"<ipython-input-20-dde9eefcd3f6>\"\u001b[0;36m, line \u001b[0;32m1\u001b[0m\n\u001b[0;31m    def input_state(circ, q, n)\u001b[0m\n\u001b[0m                               ^\u001b[0m\n\u001b[0;31mSyntaxError\u001b[0m\u001b[0;31m:\u001b[0m invalid syntax\n"
          ]
        }
      ],
      "source": "def input_state(circ, q, n):"
    },
    {
      "cell_type": "code",
      "execution_count": 2,
      "metadata": {
        "trusted": true
      },
      "outputs": [],
      "source": "def qft(circ, q, n):\n    \"\"\"n-qubit QFT on q in circ.\"\"\"\n    for j in range(n):\n        for k in range(j):\n            circ.cu1(math.pi/float(2**(j-k)), q[j], q[k])\n        circ.h(q[j])"
    },
    {
      "cell_type": "code",
      "execution_count": 3,
      "metadata": {
        "trusted": true
      },
      "outputs": [],
      "source": "q = QuantumRegister(3)\n\n#c = ClassicalRegister(3)\nqft3 = QuantumCircuit(q)\nqft3.x(q[1])\n#input_state(qft3, q, 3)\nqft(qft3, q, 3)\n#for i in range(3):\n #   qft3.measure(q[i], c[i])\n#print(qft3.qasm())"
    },
    {
      "cell_type": "code",
      "execution_count": 4,
      "metadata": {
        "trusted": true
      },
      "outputs": [
        {
          "data": {
            "image/png": "[encoded data removed]",
            "text/plain": "<Figure size 541.8x198.66 with 1 Axes>"
          },
          "execution_count": 4,
          "metadata": {},
          "output_type": "execute_result"
        }
      ],
      "source": "qft3.draw()"
    },
    {
      "cell_type": "code",
      "execution_count": 5,
      "metadata": {
        "trusted": true
      },
      "outputs": [
        {
          "name": "stdout",
          "output_type": "stream",
          "text": "Circuit unitary:\n [[ 0.35355339+0.j          0.35355339+0.j          0.35355339+0.j\n   0.35355339+0.j          0.35355339+0.j          0.35355339+0.j\n   0.35355339+0.j          0.35355339+0.j        ]\n [ 0.        +0.35355339j  0.        -0.35355339j  0.35355339+0.j\n  -0.35355339+0.j         -0.25      +0.25j        0.25      -0.25j\n   0.25      +0.25j       -0.25      -0.25j      ]\n [-0.35355339+0.j         -0.35355339+0.j          0.35355339+0.j\n   0.35355339+0.j          0.        -0.35355339j  0.        -0.35355339j\n   0.        +0.35355339j  0.        +0.35355339j]\n [ 0.        -0.35355339j  0.        +0.35355339j  0.35355339+0.j\n  -0.35355339+0.j          0.25      +0.25j       -0.25      -0.25j\n  -0.25      +0.25j        0.25      -0.25j      ]\n [ 0.35355339+0.j          0.35355339+0.j          0.35355339+0.j\n   0.35355339+0.j         -0.35355339+0.j         -0.35355339+0.j\n  -0.35355339+0.j         -0.35355339+0.j        ]\n [ 0.        +0.35355339j  0.        -0.35355339j  0.35355339+0.j\n  -0.35355339+0.j          0.25      -0.25j       -0.25      +0.25j\n  -0.25      -0.25j        0.25      +0.25j      ]\n [-0.35355339+0.j         -0.35355339+0.j          0.35355339+0.j\n   0.35355339+0.j          0.        +0.35355339j  0.        +0.35355339j\n   0.        -0.35355339j  0.        -0.35355339j]\n [ 0.        -0.35355339j  0.        +0.35355339j  0.35355339+0.j\n  -0.35355339+0.j         -0.25      -0.25j        0.25      +0.25j\n   0.25      -0.25j       -0.25      +0.25j      ]]\n"
        }
      ],
      "source": "# Select the UnitarySimulator from the Aer provider\nsimulator = Aer.get_backend('unitary_simulator')\n\n# Execute and get counts\nresult = execute(qft3, simulator).result()\nunitary = result.get_unitary(qft3)\nprint(\"Circuit unitary:\\n\", unitary)"
    },
    {
      "cell_type": "code",
      "execution_count": 12,
      "metadata": {
        "trusted": true
      },
      "outputs": [
        {
          "name": "stdout",
          "output_type": "stream",
          "text": "[ 0.354+0.j     0.   +0.354j -0.354+0.j     0.   -0.354j  0.354+0.j\n  0.   +0.354j -0.354+0.j     0.   -0.354j]\n"
        }
      ],
      "source": "# Import Aer\nfrom qiskit import BasicAer\n\n# Run the quantum circuit on a statevector simulator backend\nbackend = BasicAer.get_backend('statevector_simulator')\n# Create a Quantum Program for execution \njob = execute(qft3, backend)\nresult = job.result()\noutputstate = result.get_statevector(qft3, decimals=3)\nprint(outputstate)"
    },
    {
      "cell_type": "code",
      "execution_count": 7,
      "metadata": {
        "trusted": true
      },
      "outputs": [
        {
          "name": "stderr",
          "output_type": "stream",
          "text": "No classical registers in circuit \"circuit0\": result data will not contain counts.\nNo measurements in circuit \"circuit0\": count data will return all zeros.\n"
        },
        {
          "ename": "QiskitError",
          "evalue": "'No counts for experiment \"None\"'",
          "output_type": "error",
          "traceback": [
            "\u001b[0;31m---------------------------------------------------------------------------\u001b[0m",
            "\u001b[0;31mKeyError\u001b[0m                                  Traceback (most recent call last)",
            "\u001b[0;32m/opt/conda/lib/python3.7/site-packages/qiskit/result/result.py\u001b[0m in \u001b[0;36mget_counts\u001b[0;34m(self, experiment)\u001b[0m\n\u001b[1;32m    178\u001b[0m \u001b[0;34m\u001b[0m\u001b[0m\n\u001b[0;32m--> 179\u001b[0;31m             return postprocess.format_counts(self.data(experiment)['counts'],\n\u001b[0m\u001b[1;32m    180\u001b[0m                                              header)\n",
            "\u001b[0;31mKeyError\u001b[0m: 'counts'",
            "\nDuring handling of the above exception, another exception occurred:\n",
            "\u001b[0;31mQiskitError\u001b[0m                               Traceback (most recent call last)",
            "\u001b[0;32m<ipython-input-7-2a8d825b708d>\u001b[0m in \u001b[0;36m<module>\u001b[0;34m\u001b[0m\n\u001b[1;32m      3\u001b[0m \u001b[0;34m\u001b[0m\u001b[0m\n\u001b[1;32m      4\u001b[0m \u001b[0msimulate\u001b[0m \u001b[0;34m=\u001b[0m \u001b[0mexecute\u001b[0m\u001b[0;34m(\u001b[0m\u001b[0mqft3\u001b[0m\u001b[0;34m,\u001b[0m \u001b[0mbackend\u001b[0m\u001b[0;34m=\u001b[0m\u001b[0mbackend\u001b[0m\u001b[0;34m,\u001b[0m \u001b[0mshots\u001b[0m\u001b[0;34m=\u001b[0m\u001b[0;36m1024\u001b[0m\u001b[0;34m)\u001b[0m\u001b[0;34m.\u001b[0m\u001b[0mresult\u001b[0m\u001b[0;34m(\u001b[0m\u001b[0;34m)\u001b[0m\u001b[0;34m\u001b[0m\u001b[0;34m\u001b[0m\u001b[0m\n\u001b[0;32m----> 5\u001b[0;31m \u001b[0msimulate\u001b[0m\u001b[0;34m.\u001b[0m\u001b[0mget_counts\u001b[0m\u001b[0;34m(\u001b[0m\u001b[0;34m)\u001b[0m\u001b[0;34m\u001b[0m\u001b[0;34m\u001b[0m\u001b[0m\n\u001b[0m",
            "\u001b[0;32m/opt/conda/lib/python3.7/site-packages/qiskit/result/result.py\u001b[0m in \u001b[0;36mget_counts\u001b[0;34m(self, experiment)\u001b[0m\n\u001b[1;32m    180\u001b[0m                                              header)\n\u001b[1;32m    181\u001b[0m         \u001b[0;32mexcept\u001b[0m \u001b[0mKeyError\u001b[0m\u001b[0;34m:\u001b[0m\u001b[0;34m\u001b[0m\u001b[0;34m\u001b[0m\u001b[0m\n\u001b[0;32m--> 182\u001b[0;31m             \u001b[0;32mraise\u001b[0m \u001b[0mQiskitError\u001b[0m\u001b[0;34m(\u001b[0m\u001b[0;34m'No counts for experiment \"{0}\"'\u001b[0m\u001b[0;34m.\u001b[0m\u001b[0mformat\u001b[0m\u001b[0;34m(\u001b[0m\u001b[0mexperiment\u001b[0m\u001b[0;34m)\u001b[0m\u001b[0;34m)\u001b[0m\u001b[0;34m\u001b[0m\u001b[0;34m\u001b[0m\u001b[0m\n\u001b[0m\u001b[1;32m    183\u001b[0m \u001b[0;34m\u001b[0m\u001b[0m\n\u001b[1;32m    184\u001b[0m     \u001b[0;32mdef\u001b[0m \u001b[0mget_statevector\u001b[0m\u001b[0;34m(\u001b[0m\u001b[0mself\u001b[0m\u001b[0;34m,\u001b[0m \u001b[0mexperiment\u001b[0m\u001b[0;34m=\u001b[0m\u001b[0;32mNone\u001b[0m\u001b[0;34m,\u001b[0m \u001b[0mdecimals\u001b[0m\u001b[0;34m=\u001b[0m\u001b[0;32mNone\u001b[0m\u001b[0;34m)\u001b[0m\u001b[0;34m:\u001b[0m\u001b[0;34m\u001b[0m\u001b[0;34m\u001b[0m\u001b[0m\n",
            "\u001b[0;31mQiskitError\u001b[0m: 'No counts for experiment \"None\"'"
          ]
        }
      ],
      "source": "# run on local simulator\nbackend = Aer.get_backend(\"qasm_simulator\")\n\nsimulate = execute(qft3, backend=backend, shots=1024).result()\nsimulate.get_counts()"
    },
    {
      "cell_type": "code",
      "execution_count": null,
      "metadata": {
        "trusted": true
      },
      "outputs": [],
      "source": "%%qiskit_job_status\n\n# Use the IBM Quantum Experience\nbackend = least_busy(IBMQ.backends(simulator=False))\nshots = 1024\n\njob_exp = execute(qft3, backend=backend, shots=shots)"
    },
    {
      "cell_type": "code",
      "execution_count": null,
      "metadata": {
        "trusted": true
      },
      "outputs": [],
      "source": "results = job_exp.result()\nplot_histogram(results.get_counts())"
    },
    {
      "cell_type": "code",
      "execution_count": 13,
      "metadata": {
        "trusted": true
      },
      "outputs": [],
      "source": "from qiskit.aqua.components.iqfts import Standard"
    },
    {
      "cell_type": "code",
      "execution_count": 15,
      "metadata": {
        "trusted": true
      },
      "outputs": [
        {
          "data": {
            "text/plain": "<qiskit.aqua.components.iqfts.standard.Standard at 0x7f2f8e351a58>"
          },
          "execution_count": 15,
          "metadata": {},
          "output_type": "execute_result"
        }
      ],
      "source": "Standard(3)"
    },
    {
      "cell_type": "code",
      "execution_count": 14,
      "metadata": {
        "trusted": true
      },
      "outputs": [
        {
          "data": {
            "image/png": "[encoded data removed]",
            "text/plain": "<Figure size 541.8x198.66 with 1 Axes>"
          },
          "execution_count": 14,
          "metadata": {},
          "output_type": "execute_result"
        }
      ],
      "source": "qft3.draw()"
    },
    {
      "cell_type": "code",
      "execution_count": 43,
      "metadata": {
        "trusted": true
      },
      "outputs": [
        {
          "data": {
            "text/plain": "<qiskit.extensions.standard.u3.U3Gate at 0x7f2f8dff2630>"
          },
          "execution_count": 43,
          "metadata": {},
          "output_type": "execute_result"
        }
      ],
      "source": "# Build a sub-circuit\nsub_q = QuantumRegister(2)\nsub_circ = QuantumCircuit(sub_q, name='sub_circ')\nsub_circ.h(sub_q[0])\nsub_circ.crz(1, sub_q[0], sub_q[1])\nsub_circ.iden(sub_q[1])\nsub_circ.u3(1, 2, -2, sub_q[0])\n\n"
    },
    {
      "cell_type": "code",
      "execution_count": 47,
      "metadata": {
        "trusted": true
      },
      "outputs": [
        {
          "data": {
            "image/png": "[encoded data removed]",
            "text/plain": "<Figure size 421.4x198.66 with 1 Axes>"
          },
          "execution_count": 47,
          "metadata": {},
          "output_type": "execute_result"
        }
      ],
      "source": "# Convert to a gate and stick it into an arbitrary place in the bigger circuit\nsub_inst = sub_circ.to_instruction()\n\nqr = QuantumRegister(3, 'q')\ncirc = QuantumCircuit(q)\n#circ.h(qr[0])\ncirc.cx(qr[0], qr[1])\ncirc.cx(qr[1], qr[2])\ncirc.append(sub_inst, [q[1], q[2]])\n\ncirc.draw(output='mpl')"
    },
    {
      "cell_type": "code",
      "execution_count": 48,
      "metadata": {
        "trusted": true
      },
      "outputs": [
        {
          "data": {
            "image/png": "[encoded data removed]",
            "text/plain": "<Figure size 541.8x198.66 with 1 Axes>"
          },
          "execution_count": 48,
          "metadata": {},
          "output_type": "execute_result"
        }
      ],
      "source": "decomposed_circ = circ.decompose() # Doesn't modify original\ndecomposed_circ.draw(output='mpl')\n"
    },
    {
      "cell_type": "code",
      "execution_count": 46,
      "metadata": {
        "trusted": true
      },
      "outputs": [
        {
          "data": {
            "text/plain": "<qiskit.circuit.instruction.Instruction at 0x7f2f8def45c0>"
          },
          "execution_count": 46,
          "metadata": {},
          "output_type": "execute_result"
        }
      ],
      "source": "sub_inst.inverse()"
    },
    {
      "cell_type": "code",
      "execution_count": 49,
      "metadata": {
        "trusted": true
      },
      "outputs": [],
      "source": "from qiskit.circuit import CompositeGate\nfrom qiskit.circuit import Gate\nfrom qiskit.circuit import QuantumCircuit\nfrom qiskit.circuit import QuantumRegister\nfrom qiskit.extensions.standard.u1 import U1Gate"
    },
    {
      "cell_type": "code",
      "execution_count": null,
      "metadata": {
        "trusted": true
      },
      "outputs": [],
      "source": ""
    }
  ],
  "metadata": {
    "kernelspec": {
      "display_name": "Python 3",
      "language": "python",
      "name": "python3"
    },
    "language_info": {
      "codemirror_mode": {
        "name": "ipython",
        "version": 3
      },
      "file_extension": ".py",
      "mimetype": "text/x-python",
      "name": "python",
      "nbconvert_exporter": "python",
      "pygments_lexer": "ipython3",
      "version": "3.7.3"
    }
  },
  "nbformat": 4,
  "nbformat_minor": 2
}