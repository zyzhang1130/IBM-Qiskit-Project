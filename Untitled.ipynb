{
  "cells": [
    {
      "cell_type": "code",
      "execution_count": 1,
      "metadata": {
        "trusted": true
      },
      "outputs": [],
      "source": "%matplotlib inline\n# Importing standard Qiskit libraries and configuring account\nfrom qiskit import QuantumCircuit, execute, Aer, IBMQ\nfrom qiskit.compiler import transpile, assemble\nfrom qiskit.tools.jupyter import *\nfrom qiskit.visualization import *\n# Loading your IBM Q account(s)\nIBMQ.load_accounts()"
    },
    {
      "cell_type": "code",
      "execution_count": 4,
      "metadata": {
        "trusted": true
      },
      "outputs": [],
      "source": "import numpy as np\nimport math\nfrom qiskit import *\n%matplotlib inline"
    },
    {
      "cell_type": "code",
      "execution_count": 5,
      "metadata": {
        "trusted": true
      },
      "outputs": [],
      "source": "#initialization\nq = QuantumRegister(2, 'q')\ncirc = QuantumCircuit(q)"
    },
    {
      "cell_type": "code",
      "execution_count": 6,
      "metadata": {
        "trusted": true
      },
      "outputs": [
        {
          "data": {
            "image/png": "[encoded data removed]",
            "text/plain": "<Figure size 602x138.46 with 1 Axes>"
          },
          "execution_count": 6,
          "metadata": {},
          "output_type": "execute_result"
        }
      ],
      "source": "#Diffusion Operator\ncirc.h(q[0])\ncirc.h(q[1])\ncirc.x(q[0])\ncirc.x(q[1])\ncirc.h(q[0])\ncirc.cx(q[1], q[0])\ncirc.h(q[0])\ncirc.x(q[0])\ncirc.x(q[1])\ncirc.h(q[0])\ncirc.h(q[1])\ncirc.draw()\n"
    },
    {
      "cell_type": "code",
      "execution_count": 7,
      "metadata": {
        "trusted": true
      },
      "outputs": [
        {
          "name": "stdout",
          "output_type": "stream",
          "text": "Circuit unitary:\n [[ 0.5+0.j -0.5+0.j -0.5+0.j -0.5+0.j]\n [-0.5+0.j  0.5+0.j -0.5+0.j -0.5+0.j]\n [-0.5+0.j -0.5+0.j  0.5+0.j -0.5+0.j]\n [-0.5+0.j -0.5+0.j -0.5+0.j  0.5+0.j]]\n"
        }
      ],
      "source": "# Select the UnitarySimulator from the Aer provider\nsimulator = Aer.get_backend('unitary_simulator')\n\n# Execute and get counts\nresult = execute(circ, simulator).result()\nunitary = result.get_unitary(circ)\nprint(\"Circuit unitary:\\n\", unitary)"
    },
    {
      "cell_type": "code",
      "execution_count": null,
      "metadata": {
        "trusted": true
      },
      "outputs": [],
      "source": ""
    }
  ],
  "metadata": {
    "kernelspec": {
      "display_name": "Python 3",
      "language": "python",
      "name": "python3"
    },
    "language_info": {
      "codemirror_mode": {
        "name": "ipython",
        "version": 3
      },
      "file_extension": ".py",
      "mimetype": "text/x-python",
      "name": "python",
      "nbconvert_exporter": "python",
      "pygments_lexer": "ipython3",
      "version": "3.7.3"
    }
  },
  "nbformat": 4,
  "nbformat_minor": 2
}